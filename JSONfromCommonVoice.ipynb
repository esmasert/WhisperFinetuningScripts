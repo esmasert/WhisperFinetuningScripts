{
 "cells": [
  {
   "cell_type": "code",
   "execution_count": null,
   "id": "c438325b-3b9a-44d9-8b9b-f3e91de46c7d",
   "metadata": {},
   "outputs": [],
   "source": [
    "import pandas as pd\n",
    "import json\n",
    "import codecs\n",
    "import os\n",
    "from tqdm import tqdm\n"
   ]
  },
  {
   "cell_type": "code",
   "execution_count": null,
   "id": "803576a1-0369-4151-a056-87455f8dc4fc",
   "metadata": {},
   "outputs": [],
   "source": [
    "filePath = \"/use_tsv/allfiles.tsv\"\n",
    "target_dataset = pd.read_csv(filePath, sep='\\t')\n"
   ]
  },
  {
   "cell_type": "code",
   "execution_count": null,
   "id": "65d46f7e-4d08-419d-92d4-563fa8c84dda",
   "metadata": {},
   "outputs": [],
   "source": [
    "# total number of records\n",
    "print(f\"There are {target_dataset.shape[0]} records.\")\n"
   ]
  },
  {
   "cell_type": "code",
   "execution_count": null,
   "id": "bd292abe-ff53-40d5-8551-e34b6f8530f5",
   "metadata": {},
   "outputs": [],
   "source": [
    "# view sample of data from each dataset\n",
    "display(target_dataset.head())"
   ]
  },
  {
   "cell_type": "code",
   "execution_count": null,
   "id": "fb3391c9-46e0-4efc-839c-3cb62a625bda",
   "metadata": {},
   "outputs": [],
   "source": [
    "audioFileNames = os.listdir(\"/zh-CN/allwavs/\")\n"
   ]
  },
  {
   "cell_type": "code",
   "execution_count": null,
   "id": "984cec79-8321-4c19-a097-e6a4ad376713",
   "metadata": {},
   "outputs": [],
   "source": [
    "mainJsonData = []\n",
    "count=0\n",
    "audioFilePaths = \"/zh-CN/allwavs/\"\n",
    "usedNames = []\n",
    "\n",
    "for i in tqdm(range(0,target_dataset.shape[0])):\n",
    "\n",
    "    wavAudioName = target_dataset['path'][i].split(\".mp3\")[0] + \".wav\"\n",
    "    \n",
    "    if wavAudioName in audioFileNames:\n",
    "        \n",
    "        if wavAudioName not in usedNames:\n",
    "    \n",
    "            text = target_dataset['sentence'][i]\n",
    "            #print(text)\n",
    "            text = text.split(\"（\")[0]\n",
    "            #print(text)\n",
    "\n",
    "            jsonData = {}\n",
    "            #jsonData[\"audio_filepath\"] = audioFilePaths + target_dataset['path'][i].split(\".mp3\")[0] + \".wav\"\n",
    "            jsonData[\"audio_filepath\"] = wavAudioName\n",
    "            \n",
    "            jsonData[\"text\"] = text\n",
    "            json_data = json.dumps(jsonData, ensure_ascii=False)\n",
    "            mainJsonData.append(json_data)\n",
    "\n",
    "            #print(json_data)\n",
    "\n",
    "            #if count % 100 == 0:\n",
    "                #print(count)\n",
    "\n",
    "            count+=1\n",
    "\n",
    "            usedNames.append(wavAudioName)\n"
   ]
  },
  {
   "cell_type": "code",
   "execution_count": null,
   "id": "d93b1202-ef43-454f-ad79-30b43c2a300b",
   "metadata": {},
   "outputs": [],
   "source": [
    "count"
   ]
  },
  {
   "cell_type": "code",
   "execution_count": null,
   "id": "bbf6aa34-1191-4698-a9cf-32eab3c70da3",
   "metadata": {},
   "outputs": [],
   "source": [
    "newJsonFile = \"commonvoice.json\"\n",
    "the_file = codecs.open(newJsonFile, \"a\")#.write(u\"\\u1234\")\n",
    "\n",
    "cnt = 0\n",
    "\n",
    "for i in range(0,len(mainJsonData)):\n",
    "    final = mainJsonData[i]\n",
    "    the_file.write(str(final))\n",
    "    the_file.write(\"\\n\")\n",
    "    cnt+=1\n",
    "    if i % 100 == 0:\n",
    "        print(\"yeni\")\n",
    "        print(i)\n",
    "\n",
    "the_file.close()\n",
    "\n",
    "print('Number of total lines of the last json file: ', cnt)\n",
    "\n",
    "print(\"THE END\")\n",
    "\n",
    "\n"
   ]
  },
  {
   "cell_type": "code",
   "execution_count": null,
   "id": "117ad894-874c-4b1e-a6d7-ef6c31c2d761",
   "metadata": {},
   "outputs": [],
   "source": []
  }
 ],
 "metadata": {
  "kernelspec": {
   "display_name": "Python 3",
   "language": "python",
   "name": "python3"
  },
  "language_info": {
   "codemirror_mode": {
    "name": "ipython",
    "version": 3
   },
   "file_extension": ".py",
   "mimetype": "text/x-python",
   "name": "python",
   "nbconvert_exporter": "python",
   "pygments_lexer": "ipython3",
   "version": "3.8.8"
  }
 },
 "nbformat": 4,
 "nbformat_minor": 5
}
