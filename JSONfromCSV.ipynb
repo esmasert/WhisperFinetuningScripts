{
 "cells": [
  {
   "cell_type": "code",
   "execution_count": null,
   "id": "c438325b-3b9a-44d9-8b9b-f3e91de46c7d",
   "metadata": {},
   "outputs": [],
   "source": [
    "import pandas as pd\n",
    "import json\n",
    "import codecs\n",
    "import os\n",
    "from tqdm import tqdm\n"
   ]
  },
  {
   "cell_type": "code",
   "execution_count": null,
   "id": "803576a1-0369-4151-a056-87455f8dc4fc",
   "metadata": {},
   "outputs": [],
   "source": [
    "filePath = \"/usecsv/allfiles.csv\"\n",
    "\n",
    "with open(filePath, \"r\") as file:\n",
    "    content_ascend=file.readlines()\n"
   ]
  },
  {
   "cell_type": "code",
   "execution_count": null,
   "id": "65d46f7e-4d08-419d-92d4-563fa8c84dda",
   "metadata": {},
   "outputs": [],
   "source": [
    "# total number of records\n",
    "print(f\"There are {len(content_ascend)} records.\")\n"
   ]
  },
  {
   "cell_type": "code",
   "execution_count": null,
   "id": "2e9119f1",
   "metadata": {},
   "outputs": [],
   "source": [
    "countLong=0\n",
    "countShort=0\n",
    "mainJsonData=[]\n",
    "\n",
    "for aline in tqdm(content_ascend):\n",
    "\n",
    "    #print(aline)\n",
    "\n",
    "    audioFileName = aline.split(\",\")[0].split(\"waves/\")[-1]\n",
    "    textt = aline.split(\",\")[1]\n",
    "    dduration = aline.split(\",\")[2]\n",
    "    \n",
    "    #print(dduration)\n",
    "    \n",
    "    dduration = float(dduration)\n",
    "    \n",
    "    if dduration>30:\n",
    "        countLong+=1\n",
    "    elif dduration<1:\n",
    "        countShort+=1\n",
    "    else:\n",
    "        \n",
    "        if \"[UNK]\" not in textt:\n",
    "\n",
    "            jsonData = {}\n",
    "            jsonData[\"audio_filepath\"] =  audioFileName\n",
    "            jsonData[\"duration\"] = round(dduration,2)\n",
    "            jsonData[\"text\"] = textt\n",
    "            json_data = json.dumps(jsonData, ensure_ascii=False)\n",
    "            mainJsonData.append(json_data)\n",
    "\n",
    "    "
   ]
  },
  {
   "cell_type": "code",
   "execution_count": null,
   "id": "111d2a2b",
   "metadata": {},
   "outputs": [],
   "source": [
    "len(mainJsonData)"
   ]
  },
  {
   "cell_type": "code",
   "execution_count": null,
   "id": "7cca45fb",
   "metadata": {},
   "outputs": [],
   "source": [
    "countShort"
   ]
  },
  {
   "cell_type": "code",
   "execution_count": null,
   "id": "ac715d82",
   "metadata": {},
   "outputs": [],
   "source": [
    "countLong"
   ]
  },
  {
   "cell_type": "code",
   "execution_count": null,
   "id": "bbf6aa34-1191-4698-a9cf-32eab3c70da3",
   "metadata": {},
   "outputs": [],
   "source": [
    "newJsonFile = \"result.json\"\n",
    "the_file = codecs.open(newJsonFile, \"a\")#.write(u\"\\u1234\")\n",
    "\n",
    "cnt = 0\n",
    "\n",
    "for i in range(0,len(mainJsonData)):\n",
    "    final = mainJsonData[i]\n",
    "    the_file.write(str(final))\n",
    "    the_file.write(\"\\n\")\n",
    "    cnt+=1\n",
    "    if i % 100 == 0:\n",
    "        print(\"yeni\")\n",
    "        print(i)\n",
    "\n",
    "the_file.close()\n",
    "\n",
    "print('Number of total lines of the last json file: ', cnt)\n",
    "\n",
    "print(\"THE END\")\n",
    "\n",
    "\n"
   ]
  },
  {
   "cell_type": "code",
   "execution_count": null,
   "id": "117ad894-874c-4b1e-a6d7-ef6c31c2d761",
   "metadata": {},
   "outputs": [],
   "source": []
  }
 ],
 "metadata": {
  "kernelspec": {
   "display_name": "Python 3",
   "language": "python",
   "name": "python3"
  },
  "language_info": {
   "codemirror_mode": {
    "name": "ipython",
    "version": 3
   },
   "file_extension": ".py",
   "mimetype": "text/x-python",
   "name": "python",
   "nbconvert_exporter": "python",
   "pygments_lexer": "ipython3",
   "version": "3.8.8"
  }
 },
 "nbformat": 4,
 "nbformat_minor": 5
}
