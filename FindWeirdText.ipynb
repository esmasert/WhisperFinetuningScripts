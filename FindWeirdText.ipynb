{
 "cells": [
  {
   "cell_type": "code",
   "execution_count": null,
   "id": "c135a6b7",
   "metadata": {},
   "outputs": [],
   "source": [
    "%matplotlib inline\n",
    "import pandas as pd\n",
    "import matplotlib.pyplot as plt\n",
    "from IPython.display import display\n",
    "from IPython.display import Audio as ipAudio\n",
    "import seaborn as sns\n",
    "import os.path\n",
    "import os\n",
    "import codecs\n",
    "from subprocess import PIPE, run\n",
    "from tqdm import tqdm\n",
    "import json\n"
   ]
  },
  {
   "cell_type": "code",
   "execution_count": null,
   "id": "802f2d59",
   "metadata": {},
   "outputs": [],
   "source": [
    "# loading datasets\n",
    "def load_lang_df(lang):\n",
    "    metadata_file = f\"files.json\"\n",
    "    df = pd.read_json(metadata_file, lines=True, orient=\"records\")\n",
    "    df.name=f\"{lang} dataset\"\n",
    "    return df\n",
    "\n",
    "target_dataset = load_lang_df(\"Mandarin Data\")"
   ]
  },
  {
   "cell_type": "code",
   "execution_count": null,
   "id": "e68862b2",
   "metadata": {},
   "outputs": [],
   "source": [
    "# total number of records\n",
    "print(f\"There are {target_dataset.shape[0]} records in the {target_dataset.name}\")\n"
   ]
  },
  {
   "cell_type": "code",
   "execution_count": null,
   "id": "dd6c8a76",
   "metadata": {
    "scrolled": true
   },
   "outputs": [],
   "source": [
    "special_characters = '\"@#$^&*()·+’=“:<>/\\\"{}[]~|≠–ºª•¶§∞™¡πøˆ¨†®´∑œæ¬˚∆˙©ƒ∂ßå÷≥≤《》µ˜∫√ç≈Ω```¦`¬'\n",
    "mainJsonData=[]\n",
    "badcount=0\n",
    "\n",
    "for fn, textt in zip(target_dataset['audio_filepath'], target_dataset['text']):\n",
    "\n",
    "    basen = fn.split(\"/\")[-1]\n",
    "    if any(c in special_characters for c in textt):\n",
    "        print(textt)\n",
    "        badcount+=1\n",
    "    else:\n",
    "                \n",
    "        jsonData = {}\n",
    "        jsonData[\"audio_filepath\"] = fn\n",
    "        jsonData[\"text\"] = textt\n",
    "        json_data = json.dumps(jsonData, ensure_ascii=False)\n",
    "        mainJsonData.append(json_data)\n",
    "\n",
    "\n"
   ]
  },
  {
   "cell_type": "code",
   "execution_count": null,
   "id": "69f28341-f217-4b2b-8403-7b9a31355b22",
   "metadata": {},
   "outputs": [],
   "source": [
    "badcount"
   ]
  },
  {
   "cell_type": "code",
   "execution_count": null,
   "id": "5b5d2e73-0e3e-4502-a181-b438ba850c3e",
   "metadata": {},
   "outputs": [],
   "source": [
    "\n",
    "for textt,fn in zip(target_dataset['text'],target_dataset['audio_filepath']):\n",
    "\n",
    "    newtt = textt.replace(\" \",\"\")\n",
    "\n",
    "    if isinstance(newtt,str):\n",
    "        #print(\"A\")\n",
    "        continue\n",
    "    else:\n",
    "        print(textt)\n",
    "        print(fn)\n",
    "    \n",
    "    if len(newtt)<1:\n",
    "        print(\"*****\")\n",
    "        print(textt)\n",
    "        print(fn)\n",
    "    else:\n",
    "        continue\n",
    "\n",
    "    basefn = fn.split(\"/\")[-1]\n",
    "    if \".wav\" in basefn:\n",
    "        continue\n",
    "    else:\n",
    "        print(fn)\n"
   ]
  },
  {
   "cell_type": "code",
   "execution_count": null,
   "id": "a74348ca-9087-4d1d-a824-7fab8772dbeb",
   "metadata": {
    "scrolled": true
   },
   "outputs": [],
   "source": [
    "newJsonFile = \"result.json\"\n",
    "the_file = codecs.open(newJsonFile, \"a\")#.write(u\"\\u1234\")\n",
    "\n",
    "cnt = 0\n",
    "\n",
    "for i in range(0,len(mainJsonData)):\n",
    "    final = mainJsonData[i]\n",
    "    the_file.write(str(final))\n",
    "    the_file.write(\"\\n\")\n",
    "    cnt+=1\n",
    "    if i % 100 == 0:\n",
    "        print(\"yeni\")\n",
    "        print(i)\n",
    "\n",
    "the_file.close()\n",
    "\n",
    "print('Number of total lines of the last json file: ', cnt)\n",
    "\n",
    "print(\"THE END\")\n",
    "\n",
    "\n"
   ]
  },
  {
   "cell_type": "code",
   "execution_count": null,
   "id": "74160758",
   "metadata": {},
   "outputs": [],
   "source": []
  }
 ],
 "metadata": {
  "kernelspec": {
   "display_name": "Python 3",
   "language": "python",
   "name": "python3"
  },
  "language_info": {
   "codemirror_mode": {
    "name": "ipython",
    "version": 3
   },
   "file_extension": ".py",
   "mimetype": "text/x-python",
   "name": "python",
   "nbconvert_exporter": "python",
   "pygments_lexer": "ipython3",
   "version": "3.8.8"
  }
 },
 "nbformat": 4,
 "nbformat_minor": 5
}
