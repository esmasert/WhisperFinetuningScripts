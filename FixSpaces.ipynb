{
 "cells": [
  {
   "cell_type": "code",
   "execution_count": null,
   "id": "daea79e5",
   "metadata": {},
   "outputs": [],
   "source": [
    "import pandas as pd\n",
    "import os.path\n",
    "import json\n",
    "import codecs\n",
    "from tqdm import tqdm\n",
    "from wordsegment import load, segment\n",
    "load()\n"
   ]
  },
  {
   "cell_type": "code",
   "execution_count": null,
   "id": "a9b18789",
   "metadata": {},
   "outputs": [],
   "source": [
    "import markdown\n",
    "\n",
    "md = markdown.Markdown(extensions=[\"markdown_cjk_spacing.cjk_spacing\"],\n",
    "    extension_configs={'markdown_cjk_spacing.cjk_spacing':\n",
    "            {'segment_break': True}})\n"
   ]
  },
  {
   "cell_type": "code",
   "execution_count": null,
   "id": "f20b36dd",
   "metadata": {},
   "outputs": [],
   "source": [
    "# loading datasets\n",
    "def load_lang_df(lang):\n",
    "    metadata_file = f\"mandarin_files.json\"\n",
    "    df = pd.read_json(metadata_file, lines=True, orient=\"records\")\n",
    "    df.name=f\"{lang} dataset\"\n",
    "    return df\n",
    "\n",
    "target_dataset = load_lang_df(\"Mandarin Data\")"
   ]
  },
  {
   "cell_type": "code",
   "execution_count": null,
   "id": "b0f4b631-2f43-4ce4-8f5d-e315e0bcadcc",
   "metadata": {},
   "outputs": [],
   "source": [
    "# total number of records\n",
    "print(f\"There are {target_dataset.shape[0]} records in the {target_dataset.name}\")\n"
   ]
  },
  {
   "cell_type": "code",
   "execution_count": null,
   "id": "1bbcf8dc",
   "metadata": {},
   "outputs": [],
   "source": [
    "count_exist=0\n",
    "count_non_exist=0\n",
    "mainJsonData=[]\n",
    "letters = \"abcdefghijklmnopqrstuwvxyz\"\n",
    "\n",
    "for audioFileName, ftext in tqdm(zip(target_dataset['audio_filepath'], target_dataset['text']), total = len(target_dataset['audio_filepath'])):\n",
    "\n",
    "    #print(ftext)\n",
    "    \n",
    "    newtext = ftext.replace(\" \",\"\")\n",
    "    newtext = newtext.replace(\" \",\"\")\n",
    "    #print(newtext)\n",
    "    ntext = md.convert(newtext)\n",
    "    #print(ntext)\n",
    "    ntext = ntext.replace('<p>', '').replace('</p>', '')\n",
    "    \n",
    "    #ntext = \" \" + ntext\n",
    "    \n",
    "    #print(ntext)\n",
    "    \n",
    "    check_text = ntext.split(\" \")\n",
    "    \n",
    "    if len(check_text) > 1 or ntext[0] in letters:\n",
    "        last_text=\"\"\n",
    "        for subwrod in check_text:\n",
    "            flag=0\n",
    "            for alett in subwrod:\n",
    "                if alett.lower() in letters:\n",
    "                    segmented_text = segment(subwrod.lower())\n",
    "                    #print(segmented_text)\n",
    "                    joined_segmented_text = ' '.join(segmented_text)\n",
    "                    flag=1\n",
    "                    break\n",
    "                                        \n",
    "            if flag==0:\n",
    "                joined_segmented_text = subwrod\n",
    "\n",
    "            last_text+= \" \" + joined_segmented_text \n",
    "            #print(audioFileName)\n",
    "            #print(ftext)\n",
    "            #print(last_text)\n",
    "            #print(\"\\n\")\n",
    "                    \n",
    "    else:   \n",
    "        last_text= \" \" + ntext\n",
    "        \n",
    "\n",
    "    #print(last_text)\n",
    "    \n",
    "    \n",
    "    jsonData = {}\n",
    "    jsonData[\"audio_filepath\"] = audioFileName\n",
    "    #jsonData[\"duration\"] = dduration\n",
    "    jsonData[\"text\"] = last_text\n",
    "    json_data = json.dumps(jsonData, ensure_ascii=False)\n",
    "    mainJsonData.append(json_data)\n",
    "\n",
    "    #print(jsonData)\n",
    "    \n",
    "    #print(\"\\n\\n\\n\")\n",
    "    "
   ]
  },
  {
   "cell_type": "code",
   "execution_count": null,
   "id": "0b7dcf16",
   "metadata": {
    "scrolled": true
   },
   "outputs": [],
   "source": [
    "newJsonFile = \"training_files_space.json\"\n",
    "the_file = codecs.open(newJsonFile, \"a\")#.write(u\"\\u1234\")\n",
    "\n",
    "cnt = 0\n",
    "\n",
    "for i in range(0,len(mainJsonData)):\n",
    "    final = mainJsonData[i]\n",
    "    the_file.write(str(final))\n",
    "    the_file.write(\"\\n\")\n",
    "    cnt+=1\n",
    "\n",
    "the_file.close()\n",
    "\n",
    "print('Number of total lines of the last json file: ', cnt)\n",
    "\n",
    "print(\"THE END\")\n",
    "\n",
    "\n"
   ]
  },
  {
   "cell_type": "code",
   "execution_count": null,
   "id": "8bcbbe1e",
   "metadata": {},
   "outputs": [],
   "source": []
  }
 ],
 "metadata": {
  "kernelspec": {
   "display_name": "Python 3",
   "language": "python",
   "name": "python3"
  },
  "language_info": {
   "codemirror_mode": {
    "name": "ipython",
    "version": 3
   },
   "file_extension": ".py",
   "mimetype": "text/x-python",
   "name": "python",
   "nbconvert_exporter": "python",
   "pygments_lexer": "ipython3",
   "version": "3.8.8"
  }
 },
 "nbformat": 4,
 "nbformat_minor": 5
}
