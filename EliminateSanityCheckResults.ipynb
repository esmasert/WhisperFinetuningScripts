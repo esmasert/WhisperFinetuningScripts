{
 "cells": [
  {
   "cell_type": "code",
   "execution_count": null,
   "id": "96000c3a-1f2d-4e0a-8ec0-61f996ad8cc0",
   "metadata": {},
   "outputs": [],
   "source": [
    "import json\n",
    "import codecs\n"
   ]
  },
  {
   "cell_type": "code",
   "execution_count": null,
   "id": "9ed2d0da-be22-4b3f-b526-66c46c782834",
   "metadata": {},
   "outputs": [],
   "source": [
    "with open(\"under05FilePaths.txt\", \"r\") as file:\n",
    "    content=file.readlines()"
   ]
  },
  {
   "cell_type": "code",
   "execution_count": null,
   "id": "26e07e13-1702-4c6d-9494-28a9ecb2461e",
   "metadata": {},
   "outputs": [],
   "source": [
    "count=0\n",
    "goodNameList=[]\n",
    "goodLineList=[]\n",
    "selected_refList=[]\n",
    "mainList=[]\n",
    "\n",
    "for line in content:\n",
    "    \n",
    "    fileName = line.split(\": {'cer'\")[0]\n",
    "    #print(fileName)\n",
    "    cer_result = line.split(\"{\")[1].split(\"}\")[0].split(\"'cer': \")[-1]\n",
    "    \n",
    "    #print(cer_result)\n",
    "    \n",
    "    #if float(cer_result) >= 0.3 and float(cer_result) < 2:\n",
    "        \n",
    "    selected_ref = line.split(\"} ref:\")[-1].split(\" : pred:\")[0]\n",
    "    goodNameList.append(fileName)\n",
    "    goodLineList.append(line)\n",
    "    selected_refList.append(selected_ref)\n",
    "\n",
    "    temp=[]\n",
    "    temp.append(fileName)\n",
    "    temp.append(cer_result)\n",
    "    temp.append(selected_ref)\n",
    "\n",
    "    mainList.append(temp)\n",
    "\n",
    "    count+=1\n",
    "\n",
    "    #break\n",
    "    "
   ]
  },
  {
   "cell_type": "code",
   "execution_count": null,
   "id": "4f4577b8-02a7-46f9-9d91-5a8123d49e19",
   "metadata": {},
   "outputs": [],
   "source": [
    "count"
   ]
  },
  {
   "cell_type": "code",
   "execution_count": null,
   "id": "e3c926b2-3331-430d-a228-8d38c7c6e57f",
   "metadata": {},
   "outputs": [],
   "source": [
    "goodLineList"
   ]
  },
  {
   "cell_type": "code",
   "execution_count": null,
   "id": "ce6eea61-249b-4fe3-8eee-f910b278bdd0",
   "metadata": {},
   "outputs": [],
   "source": [
    "mainList"
   ]
  },
  {
   "cell_type": "code",
   "execution_count": null,
   "id": "bcc49b59-1d5a-44c9-bfdd-05311a94b97a",
   "metadata": {},
   "outputs": [],
   "source": [
    "len(mainList)"
   ]
  },
  {
   "cell_type": "code",
   "execution_count": null,
   "id": "088a5ac8-589f-4f42-8cb4-f9a37ef79b36",
   "metadata": {},
   "outputs": [],
   "source": [
    "import markdown\n",
    "\n",
    "md = markdown.Markdown(extensions=[\"markdown_cjk_spacing.cjk_spacing\"],\n",
    "    extension_configs={'markdown_cjk_spacing.cjk_spacing':\n",
    "            {'segment_break': True}})\n"
   ]
  },
  {
   "cell_type": "code",
   "execution_count": null,
   "id": "97a1c103-b16e-49b7-870f-c386b6a986ca",
   "metadata": {},
   "outputs": [],
   "source": [
    "mainJsonData = []\n",
    "count=0\n",
    "icnt=0\n",
    "total_eng_words = 0\n",
    "\n",
    "for el in mainList:\n",
    "    ref = el[2]\n",
    "    #print(ref)\n",
    "    \n",
    "    ntext=ref.replace(\" \",\"\")\n",
    "    ntext=ntext.replace(\",\",\"\")\n",
    "    ntext=ntext.replace(\"、\",\"\")\n",
    "    ntext = md.convert(ntext)\n",
    "    ntext = ntext.replace('<p>', '').replace('</p>', '') \n",
    "\n",
    "    jsonData = {}\n",
    "    jsonData[\"audio_filepath\"] = el[0]\n",
    "    #jsonData[\"IV_V4.4_CER\"] = el[1]\n",
    "    jsonData[\"text\"] = el[2]\n",
    "    json_data = json.dumps(jsonData, ensure_ascii=False)\n",
    "    mainJsonData.append(json_data)\n",
    "\n",
    "    icnt +=1\n",
    "\n",
    "        "
   ]
  },
  {
   "cell_type": "code",
   "execution_count": null,
   "id": "89d55263-16d0-4d23-9c8d-7ba06e1766e1",
   "metadata": {},
   "outputs": [],
   "source": [
    "print(\"Total Eng Words in PRED\",total_eng_words)\n",
    "print(icnt)"
   ]
  },
  {
   "cell_type": "code",
   "execution_count": null,
   "id": "694340a3-39b5-4ff3-b7d2-b8542aeb984f",
   "metadata": {},
   "outputs": [],
   "source": [
    "newJsonFile = \"sanity_check_under05_segmented_audios.json\"\n",
    "the_file = codecs.open(newJsonFile, \"a\")#.write(u\"\\u1234\")\n",
    "\n",
    "cnt = 0\n",
    "\n",
    "for i in range(0,len(mainJsonData)):\n",
    "    final = mainJsonData[i]\n",
    "    the_file.write(str(final))\n",
    "    the_file.write(\"\\n\")\n",
    "    cnt+=1\n",
    "    if i % 100 == 0:\n",
    "        print(\"yeni\")\n",
    "        print(i)\n",
    "\n",
    "the_file.close()\n",
    "\n",
    "print('Number of total lines of the last json file: ', cnt)\n",
    "\n",
    "print(\"THE END\")\n",
    "\n",
    "\n"
   ]
  },
  {
   "cell_type": "code",
   "execution_count": null,
   "id": "267d193e-f69b-4f3d-9feb-95b8f3f7192a",
   "metadata": {},
   "outputs": [],
   "source": []
  }
 ],
 "metadata": {
  "kernelspec": {
   "display_name": "Python 3",
   "language": "python",
   "name": "python3"
  },
  "language_info": {
   "codemirror_mode": {
    "name": "ipython",
    "version": 3
   },
   "file_extension": ".py",
   "mimetype": "text/x-python",
   "name": "python",
   "nbconvert_exporter": "python",
   "pygments_lexer": "ipython3",
   "version": "3.8.8"
  }
 },
 "nbformat": 4,
 "nbformat_minor": 5
}
