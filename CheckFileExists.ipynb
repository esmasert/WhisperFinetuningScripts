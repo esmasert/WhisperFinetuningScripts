{
 "cells": [
  {
   "cell_type": "code",
   "execution_count": null,
   "id": "c135a6b7",
   "metadata": {},
   "outputs": [],
   "source": [
    "%matplotlib inline\n",
    "import pandas as pd\n",
    "import matplotlib.pyplot as plt\n",
    "from IPython.display import display\n",
    "from IPython.display import Audio as ipAudio\n",
    "import seaborn as sns\n",
    "import os.path\n",
    "import json\n",
    "import codecs\n",
    "from tqdm import tqdm\n"
   ]
  },
  {
   "cell_type": "code",
   "execution_count": null,
   "id": "802f2d59",
   "metadata": {},
   "outputs": [],
   "source": [
    "# loading datasets\n",
    "def load_lang_df(lang):\n",
    "    metadata_file = f\"mandarin_files.json\"\n",
    "    df = pd.read_json(metadata_file, lines=True, orient=\"records\")\n",
    "    df.name=f\"{lang} dataset\"\n",
    "    return df\n",
    "\n",
    "target_dataset = load_lang_df(\"Mandarin Data\")"
   ]
  },
  {
   "cell_type": "code",
   "execution_count": null,
   "id": "e68862b2",
   "metadata": {},
   "outputs": [],
   "source": [
    "# total number of records\n",
    "print(f\"There are {target_dataset.shape[0]} records in the {target_dataset.name}\")\n"
   ]
  },
  {
   "cell_type": "code",
   "execution_count": null,
   "id": "dd6c8a76",
   "metadata": {},
   "outputs": [],
   "source": [
    "count_exist=0\n",
    "count_non_exist=0\n",
    "mainJsonData=[]\n",
    "\n",
    "#for audioFileName, textt, dduration in tqdm(zip(target_dataset['audio_filepath'], target_dataset['text'], target_dataset['duration']), total = len(target_dataset['audio_filepath'])):\n",
    "for audioFileName, textt in tqdm(zip(target_dataset['audio_filepath'], target_dataset['text']), total = len(target_dataset['audio_filepath'])):\n",
    "\n",
    "    check_file = os.path.isfile(audioFileName)\n",
    "    if check_file==True:\n",
    "        count_exist+=1\n",
    "\n",
    "        jsonData = {}\n",
    "        jsonData[\"audio_filepath\"] = audioFileName\n",
    "        #jsonData[\"duration\"] = dduration\n",
    "        jsonData[\"text\"] = textt\n",
    "        json_data = json.dumps(jsonData, ensure_ascii=False)\n",
    "        mainJsonData.append(json_data)\n",
    "        \n",
    "    else:\n",
    "        count_non_exist+=1\n",
    "        print(audioFileName)\n",
    "        "
   ]
  },
  {
   "cell_type": "code",
   "execution_count": null,
   "id": "4404784e",
   "metadata": {},
   "outputs": [],
   "source": [
    "print(count_exist)\n",
    "print(count_non_exist)"
   ]
  },
  {
   "cell_type": "code",
   "execution_count": null,
   "id": "1e500407",
   "metadata": {},
   "outputs": [],
   "source": [
    "newJsonFile = \"result_exist.json\"\n",
    "the_file = codecs.open(newJsonFile, \"a\")#.write(u\"\\u1234\")\n",
    "\n",
    "cnt = 0\n",
    "\n",
    "for i in range(0,len(mainJsonData)):\n",
    "    final = mainJsonData[i]\n",
    "    the_file.write(str(final))\n",
    "    the_file.write(\"\\n\")\n",
    "    cnt+=1\n",
    "    if i % 100 == 0:\n",
    "        print(\"yeni\")\n",
    "        print(i)\n",
    "\n",
    "the_file.close()\n",
    "\n",
    "print('Number of total lines of the last json file: ', cnt)\n",
    "\n",
    "print(\"THE END\")\n",
    "\n",
    "\n"
   ]
  },
  {
   "cell_type": "markdown",
   "id": "d5ba2ecc",
   "metadata": {},
   "source": [
    "# Easy Duration"
   ]
  },
  {
   "cell_type": "code",
   "execution_count": null,
   "id": "49681050",
   "metadata": {},
   "outputs": [],
   "source": [
    "# loading datasets\n",
    "def load_lang_df(lang):\n",
    "    metadata_file = f\"segmented_audios.json\"\n",
    "    df = pd.read_json(metadata_file, lines=True, orient=\"records\")\n",
    "    df.name=f\"{lang} dataset\"\n",
    "    return df\n",
    "\n",
    "target_dataset = load_lang_df(\"Mandarin Data\")"
   ]
  },
  {
   "cell_type": "code",
   "execution_count": null,
   "id": "3abff02e",
   "metadata": {},
   "outputs": [],
   "source": [
    "count_exist=0\n",
    "count_non_exist=0\n",
    "mainJsonData=[]\n",
    "\n",
    "totaldur = 0\n",
    "\n",
    "for fn, duration in tqdm(zip(target_dataset['audio_filepath'], target_dataset['duration']), total = len(target_dataset['audio_filepath'])):\n",
    "    \n",
    "    totaldur+=duration\n",
    "    \n",
    "totaldur"
   ]
  },
  {
   "cell_type": "code",
   "execution_count": null,
   "id": "24a01e8c",
   "metadata": {},
   "outputs": [],
   "source": [
    "totaldur/3600"
   ]
  },
  {
   "cell_type": "markdown",
   "id": "6be5b6c6",
   "metadata": {},
   "source": [
    "# Find Duplicates"
   ]
  },
  {
   "cell_type": "code",
   "execution_count": null,
   "id": "97ef54e1",
   "metadata": {},
   "outputs": [],
   "source": [
    "# loading datasets\n",
    "def load_lang_df(lang):\n",
    "    metadata_file = f\"formandarin.json\"\n",
    "    df = pd.read_json(metadata_file, lines=True, orient=\"records\")\n",
    "    df.name=f\"{lang} dataset\"\n",
    "    return df\n",
    "\n",
    "target_dataset = load_lang_df(\"Mandarin Data\")"
   ]
  },
  {
   "cell_type": "code",
   "execution_count": null,
   "id": "ffa6e465",
   "metadata": {},
   "outputs": [],
   "source": [
    "df2 = target_dataset[target_dataset.duplicated()]\n",
    "print(len(df2))"
   ]
  },
  {
   "cell_type": "code",
   "execution_count": null,
   "id": "63178ba8",
   "metadata": {},
   "outputs": [],
   "source": [
    "used = []\n",
    "count_exist = 0\n",
    "\n",
    "for audioFileName in tqdm(target_dataset['audio_filepath']):\n",
    "\n",
    "    baseName = audioFileName.split(\"/\")[-1]\n",
    "    if baseName not in used:\n",
    "        used.append(baseName)\n",
    "    else:\n",
    "        count_exist+=1\n",
    "        \n",
    "count_exist\n"
   ]
  },
  {
   "cell_type": "code",
   "execution_count": null,
   "id": "1bda2431",
   "metadata": {},
   "outputs": [],
   "source": [
    "count_exist\n"
   ]
  },
  {
   "cell_type": "code",
   "execution_count": null,
   "id": "2b72e552",
   "metadata": {},
   "outputs": [],
   "source": [
    "used"
   ]
  },
  {
   "cell_type": "code",
   "execution_count": null,
   "id": "74160758",
   "metadata": {},
   "outputs": [],
   "source": []
  }
 ],
 "metadata": {
  "kernelspec": {
   "display_name": "Python 3",
   "language": "python",
   "name": "python3"
  },
  "language_info": {
   "codemirror_mode": {
    "name": "ipython",
    "version": 3
   },
   "file_extension": ".py",
   "mimetype": "text/x-python",
   "name": "python",
   "nbconvert_exporter": "python",
   "pygments_lexer": "ipython3",
   "version": "3.8.8"
  }
 },
 "nbformat": 4,
 "nbformat_minor": 5
}
