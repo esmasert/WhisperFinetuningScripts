{
 "cells": [
  {
   "cell_type": "code",
   "execution_count": null,
   "id": "5b6f3a06-d85e-4e37-a731-6d0b76b6a35c",
   "metadata": {},
   "outputs": [],
   "source": [
    "import os\n",
    "import glob\n",
    "from tqdm import tqdm\n",
    "import pandas as pd\n",
    "import csv\n",
    "import json\n",
    "import codecs\n"
   ]
  },
  {
   "cell_type": "code",
   "execution_count": null,
   "id": "685f8551-76ee-408e-9221-4d1a59762ea1",
   "metadata": {},
   "outputs": [],
   "source": [
    "AllAudioFiles = glob.glob(\"/youtube_audios/*\")\n",
    "\n",
    "for anaudio in tqdm(AllAudioFiles):\n",
    "\n",
    "    checktype = anaudio.split(\".\")[-1]\n",
    "\n",
    "    if checktype ==\"wav\":\n",
    "\n",
    "        fileID = anaudio.split(\"].wav\")[0].split(\"[\")[-1]\n",
    "        #print(anaudio)\n",
    "        #print(fileID)\n",
    "\n",
    "        cmd = 'mv \"' + anaudio + '\" /youtube_audios/' + fileID + \".wav\"\n",
    "    \n",
    "        #print(cmd)\n",
    "\n",
    "        os.system(cmd)\n",
    "\n",
    "        #break\n"
   ]
  },
  {
   "cell_type": "code",
   "execution_count": null,
   "id": "373deac6-5c26-4c30-9819-dfe17d51cfc7",
   "metadata": {},
   "outputs": [],
   "source": [
    "AllAudioFiles = glob.glob(\"/wholewavs/*\")\n",
    "\n",
    "for anaudio in tqdm(AllAudioFiles):\n",
    "\n",
    "    checktype = anaudio.split(\".\")[-1]\n",
    "\n",
    "    if checktype ==\"wav\":\n",
    "\n",
    "        if \"[\" in anaudio:\n",
    "    \n",
    "            fileID = anaudio.split(\"].wav\")[0].split(\"[\")[-1]\n",
    "\n",
    "            baseName = anaudio.split(\"/\")[-1]\n",
    "            filespath = anaudio.replace(baseName,\"\")\n",
    "\n",
    "            #print(filespath)\n",
    "            #print(anaudio)\n",
    "            #print(fileID)\n",
    "    \n",
    "            cmd = \"mv \" + filespath + \"'\" + baseName + \"' /wholewavs/\" + fileID + \".wav\"\n",
    "        \n",
    "            #print(cmd)\n",
    "    \n",
    "            os.system(cmd)\n",
    "        \n"
   ]
  },
  {
   "cell_type": "code",
   "execution_count": null,
   "id": "1be01438-b3b6-49ab-899d-4dae7687a77e",
   "metadata": {},
   "outputs": [],
   "source": []
  }
 ],
 "metadata": {
  "kernelspec": {
   "display_name": "Python 3",
   "language": "python",
   "name": "python3"
  },
  "language_info": {
   "codemirror_mode": {
    "name": "ipython",
    "version": 3
   },
   "file_extension": ".py",
   "mimetype": "text/x-python",
   "name": "python",
   "nbconvert_exporter": "python",
   "pygments_lexer": "ipython3",
   "version": "3.8.8"
  }
 },
 "nbformat": 4,
 "nbformat_minor": 5
}
