{
 "cells": [
  {
   "cell_type": "code",
   "execution_count": null,
   "id": "f1b77fc3",
   "metadata": {},
   "outputs": [],
   "source": [
    "import glob\n",
    "import textgrid\n",
    "import codecs\n",
    "from tqdm import tqdm\n",
    "import json\n"
   ]
  },
  {
   "cell_type": "code",
   "execution_count": null,
   "id": "3e0b1439",
   "metadata": {},
   "outputs": [],
   "source": [
    "textgridfiles= glob.glob(\"/allTexgrids/*TextGrid\")\n",
    "print(\"Number of folders:\",len(textgridfiles))\n",
    "textgridfiles.sort()"
   ]
  },
  {
   "cell_type": "code",
   "execution_count": null,
   "id": "c8d1dd60",
   "metadata": {
    "scrolled": true
   },
   "outputs": [],
   "source": [
    "textgridfiles"
   ]
  },
  {
   "cell_type": "markdown",
   "id": "5d805543",
   "metadata": {},
   "source": [
    "# Example"
   ]
  },
  {
   "cell_type": "code",
   "execution_count": null,
   "id": "682d02cc",
   "metadata": {},
   "outputs": [],
   "source": [
    "# Read a TextGrid object from a file.\n",
    "tg = textgrid.TextGrid.fromFile(textgridfiles[0])\n",
    "\n",
    "# Read a IntervalTier object.\n",
    "print(\"------- IntervalTier Example -------\")\n",
    "print(tg[0])\n",
    "print(tg.name)\n",
    "print(tg.minTime)\n",
    "print(tg.maxTime)\n",
    "\n",
    "# Read a PointTier object.\n",
    "print(\"------- PointTier Example -------\")\n",
    "print(tg[0])\n",
    "print(tg[0][0])\n",
    "print(tg[0][5].minTime)\n",
    "print(tg[0][5].maxTime)\n",
    "print(tg[0][0].mark)"
   ]
  },
  {
   "cell_type": "markdown",
   "id": "d35ba42b",
   "metadata": {},
   "source": [
    "# Create Json File"
   ]
  },
  {
   "cell_type": "code",
   "execution_count": null,
   "id": "d1d4f5cb",
   "metadata": {},
   "outputs": [],
   "source": [
    "mainJsonData = []\n",
    "countLong=0\n",
    "countShort=0\n",
    "\n",
    "for textgridfile in tqdm(textgridfiles):\n",
    "    \n",
    "    #print(textgridfile)\n",
    "\n",
    "    splittedtgfile = textgridfile.split(\"/\")[-1].split(\"_\")\n",
    "    #print(len(splittedtgfile))\n",
    "    \n",
    "    if len(splittedtgfile) ==2:\n",
    "    #if len(splittedtgfile) <0:\n",
    "        continue\n",
    "    else:\n",
    "        \n",
    "        try:        \n",
    "            #print(textgridfile)\n",
    "            tg = textgrid.TextGrid.fromFile(textgridfile)\n",
    "            #print(tg)\n",
    "        except:\n",
    "            print(textgridfile)\n",
    "        \n",
    "        basefilename = textgridfile.split(\"/\")[-1].split(\".TextGrid\")[0]\n",
    "        #print(basefilename)\n",
    "        \n",
    "        \n",
    "        for row in tg:\n",
    "            for intervals in row:\n",
    "\n",
    "                try:\n",
    "                    #print(\"\\n\\n\\n\\n\")\n",
    "\n",
    "                    #print(row)\n",
    "                    #print(textgridfile)\n",
    "                    #print(intervals)\n",
    "                    #print(intervals.minTime)\n",
    "                    #print(intervals.maxTime)\n",
    "                    #print(intervals.mark)\n",
    "                    \n",
    "                    if intervals.mark == \"\":\n",
    "                        continue\n",
    "                    else:\n",
    "                        \n",
    "                        audioFileName = basefilename + \"_0000_\" + str(round(intervals.minTime,2)) + \"_\" + str(round(intervals.maxTime,2)) + \".wav\"\n",
    "                        #print(audioFileName)\n",
    "\n",
    "                        dduration = intervals.maxTime - intervals.minTime\n",
    "                        #print(round(dduration,3))\n",
    "\n",
    "                        if dduration>30:\n",
    "                            countLong+=1\n",
    "                        elif dduration<0.3:\n",
    "                            countShort+=1\n",
    "                        else:        \n",
    "                            jsonData = {}\n",
    "                            jsonData[\"audio_filepath\"] =  audioFileName\n",
    "                            jsonData[\"duration\"] = round(dduration,2)\n",
    "                            jsonData[\"text\"] = intervals.mark\n",
    "                            json_data = json.dumps(jsonData, ensure_ascii=False)\n",
    "                            mainJsonData.append(json_data)\n",
    "                        \n",
    "                except:\n",
    "\n",
    "                    #print(\"\\n\\n\\n\\n\")\n",
    "                    #print(row)\n",
    "                    print(textgridfile)\n",
    "                    print(intervals)\n",
    "                    print(intervals.minTime)\n",
    "                    print(intervals.maxTime)\n",
    "                    print(intervals.mark)\n",
    "\n"
   ]
  },
  {
   "cell_type": "code",
   "execution_count": null,
   "id": "45d07988-fb7a-4945-a86c-e329fbc2f82f",
   "metadata": {},
   "outputs": [],
   "source": [
    "len(mainJsonData)"
   ]
  },
  {
   "cell_type": "code",
   "execution_count": null,
   "id": "84c73607",
   "metadata": {},
   "outputs": [],
   "source": [
    "countLong"
   ]
  },
  {
   "cell_type": "code",
   "execution_count": null,
   "id": "2edf7d07-f200-4eaa-bbdd-8f56a86e2d11",
   "metadata": {},
   "outputs": [],
   "source": [
    "countShort"
   ]
  },
  {
   "cell_type": "code",
   "execution_count": null,
   "id": "c3c5817f",
   "metadata": {},
   "outputs": [],
   "source": [
    "newJsonFile = \"result.json\"\n",
    "the_file = codecs.open(newJsonFile, \"a\")#.write(u\"\\u1234\")\n",
    "\n",
    "cnt = 0\n",
    "\n",
    "for i in range(0,len(mainJsonData)):\n",
    "    final = mainJsonData[i]\n",
    "    the_file.write(str(final))\n",
    "    the_file.write(\"\\n\")\n",
    "    cnt+=1\n",
    "    #if i % 100 == 0:\n",
    "        #print(\"yeni\")\n",
    "        #print(i)\n",
    "\n",
    "the_file.close()\n",
    "\n",
    "print('Number of total lines of the last json file: ', cnt)\n",
    "\n",
    "print(\"THE END\")\n",
    "\n",
    "\n"
   ]
  },
  {
   "cell_type": "code",
   "execution_count": null,
   "id": "be5558c4",
   "metadata": {},
   "outputs": [],
   "source": []
  }
 ],
 "metadata": {
  "kernelspec": {
   "display_name": "Python 3",
   "language": "python",
   "name": "python3"
  },
  "language_info": {
   "codemirror_mode": {
    "name": "ipython",
    "version": 3
   },
   "file_extension": ".py",
   "mimetype": "text/x-python",
   "name": "python",
   "nbconvert_exporter": "python",
   "pygments_lexer": "ipython3",
   "version": "3.8.8"
  }
 },
 "nbformat": 4,
 "nbformat_minor": 5
}
