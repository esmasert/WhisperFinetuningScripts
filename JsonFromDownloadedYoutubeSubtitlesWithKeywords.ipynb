{
 "cells": [
  {
   "cell_type": "code",
   "execution_count": null,
   "id": "b0b428d7-dd6a-4e97-960a-bfd9878f93de",
   "metadata": {},
   "outputs": [],
   "source": [
    "import pandas as pd\n",
    "import os.path\n",
    "import os\n",
    "import codecs\n",
    "from subprocess import PIPE, run\n",
    "from tqdm import tqdm\n",
    "import json\n"
   ]
  },
  {
   "cell_type": "code",
   "execution_count": null,
   "id": "d368b8ce-52ae-4187-b7f9-34988b7bad23",
   "metadata": {},
   "outputs": [],
   "source": [
    "# loading datasets\n",
    "def load_lang_df(lang):\n",
    "    metadata_file = f\"all_nonexist_files_having_subtitles.json\"\n",
    "    df = pd.read_json(metadata_file, lines=True, orient=\"records\")\n",
    "    df.name=f\"{lang} dataset\"\n",
    "    return df\n",
    "\n",
    "target_dataset = load_lang_df(\"mandarin Data\")"
   ]
  },
  {
   "cell_type": "code",
   "execution_count": null,
   "id": "d7af946f-db55-4398-b6a3-e5161abe1671",
   "metadata": {},
   "outputs": [],
   "source": [
    "onlymissingkeywordsList = [ \"貴公司\",\n",
    "                            \"Buy $\",\n",
    "                            \"Buy USD\",\n",
    "                            \"spot\", ]\n"
   ]
  },
  {
   "cell_type": "code",
   "execution_count": null,
   "id": "0323df70-105f-453b-8816-b2249ac7c563",
   "metadata": {},
   "outputs": [],
   "source": [
    "usedTexts=[]\n",
    "mainJsonData=[]\n",
    "count_exist=0\n",
    "smallnum=0\n",
    "\n",
    "for keyword in tqdm(onlymissingkeywordsList):\n",
    "    #print(keyword)\n",
    "\n",
    "    count=0\n",
    "    \n",
    "    for textt, audio_name, starttime, durr in zip(target_dataset[\"text\"],target_dataset[\"audio_filepath\"], target_dataset[\"start_time\"], target_dataset[\"duration\"]):\n",
    "        \n",
    "        if keyword in textt: \n",
    "            #print(keyword)\n",
    "            count+=1\n",
    "            if textt not in usedTexts:\n",
    "                usedTexts.append(textt)\n",
    "                \n",
    "                jsonData = {}\n",
    "                jsonData[\"audio_filepath\"] = audio_name\n",
    "                jsonData[\"start_time\"] = round(starttime,2)\n",
    "                jsonData[\"duration\"] = round(durr,2)\n",
    "                jsonData[\"text\"] = textt\n",
    "                json_data = json.dumps(jsonData, ensure_ascii=False)\n",
    "                mainJsonData.append(json_data)\n",
    "                \n",
    "                count_exist+=1\n",
    "\n",
    "        if count==1000:\n",
    "            break\n",
    "\n",
    "    if count<300:\n",
    "        #print(\"SMALL\")\n",
    "        #print(keyword, \": \", count)\n",
    "        smallnum+=1\n",
    "\n",
    "\n",
    "    print(keyword, \": \", count)\n",
    "\n"
   ]
  },
  {
   "cell_type": "code",
   "execution_count": null,
   "id": "c0fce02c-a919-47c8-90c5-f32a25eaa230",
   "metadata": {},
   "outputs": [],
   "source": [
    "print(count_exist)\n"
   ]
  },
  {
   "cell_type": "code",
   "execution_count": null,
   "id": "d7c3cebc-c264-4aa0-b967-fb72ecb06ac2",
   "metadata": {},
   "outputs": [],
   "source": [
    "len(keywordsList)"
   ]
  },
  {
   "cell_type": "code",
   "execution_count": null,
   "id": "d905a61c-846c-41be-885f-98586c698ac3",
   "metadata": {},
   "outputs": [],
   "source": [
    "newJsonFile = \"will_go_azure.json\"\n",
    "the_file = codecs.open(newJsonFile, \"a\")#.write(u\"\\u1234\")\n",
    "\n",
    "cnt = 0\n",
    "\n",
    "for i in range(0,len(mainJsonData)):\n",
    "    final = mainJsonData[i]\n",
    "    the_file.write(str(final))\n",
    "    the_file.write(\"\\n\")\n",
    "    cnt+=1\n",
    "    if i % 100 == 0:\n",
    "        print(i)\n",
    "\n",
    "the_file.close()\n",
    "\n",
    "print('Number of total lines of the last json file: ', cnt)\n",
    "\n",
    "print(\"THE END\")\n",
    "\n",
    "\n"
   ]
  },
  {
   "cell_type": "code",
   "execution_count": null,
   "id": "d9334576-0c28-4c36-b943-c841a6a64668",
   "metadata": {},
   "outputs": [],
   "source": []
  }
 ],
 "metadata": {
  "kernelspec": {
   "display_name": "Python 3",
   "language": "python",
   "name": "python3"
  },
  "language_info": {
   "codemirror_mode": {
    "name": "ipython",
    "version": 3
   },
   "file_extension": ".py",
   "mimetype": "text/x-python",
   "name": "python",
   "nbconvert_exporter": "python",
   "pygments_lexer": "ipython3",
   "version": "3.8.8"
  }
 },
 "nbformat": 4,
 "nbformat_minor": 5
}
