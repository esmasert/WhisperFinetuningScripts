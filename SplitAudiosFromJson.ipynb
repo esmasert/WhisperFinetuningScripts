{
 "cells": [
  {
   "cell_type": "code",
   "execution_count": null,
   "id": "f1b77fc3",
   "metadata": {},
   "outputs": [],
   "source": [
    "%matplotlib inline\n",
    "import pandas as pd\n",
    "import matplotlib.pyplot as plt\n",
    "from IPython.display import display\n",
    "from IPython.display import Audio as ipAudio\n",
    "import seaborn as sns\n",
    "import os\n",
    "import os.path\n",
    "import json\n",
    "import codecs\n",
    "from tqdm import tqdm\n"
   ]
  },
  {
   "cell_type": "code",
   "execution_count": null,
   "id": "4f3713e7",
   "metadata": {},
   "outputs": [],
   "source": [
    "# loading datasets\n",
    "def load_lang_df(lang):\n",
    "    metadata_file = f\"magicDataRAMC_all.json\"\n",
    "    df = pd.read_json(metadata_file, lines=True, orient=\"records\")\n",
    "    df.name=f\"{lang} dataset\"\n",
    "    return df\n",
    "\n",
    "target_dataset = load_lang_df(\"Mandarin Data\")\n",
    "\n",
    "# total number of records\n",
    "print(f\"There are {target_dataset.shape[0]} records in the {target_dataset.name}\")\n"
   ]
  },
  {
   "cell_type": "markdown",
   "id": "8060788f",
   "metadata": {},
   "source": [
    "# Split Audios"
   ]
  },
  {
   "cell_type": "code",
   "execution_count": null,
   "id": "d1d4f5cb",
   "metadata": {},
   "outputs": [],
   "source": [
    "\n",
    "resultFolder = \"/allwavs/\"\n",
    "\n",
    "for audioFileName in tqdm(target_dataset[\"audio_filepath\"]):\n",
    "    \n",
    "    #print(audioFileName)\n",
    "    \n",
    "    start_time = audioFileName.split(\"_0000_\")[-1].split(\"_\")[0]\n",
    "    end_time = audioFileName.split(\"_0000_\")[-1].split(\"_\")[-1].split(\".wav\")[0]\n",
    "    \n",
    "    mainaudioFileMame = audioFileName.split(\"_0000_\")[0]+\".wav\"\n",
    "    \n",
    "    #print(mainaudioFileMame)\n",
    "    #print(start_time)\n",
    "    #print(end_time)\n",
    "    \n",
    "    command = \"sox /wholewavs/\" + mainaudioFileMame + \" \" + resultFolder + audioFileName + \" trim \" + start_time + \" =\" + end_time\n",
    "    os.system(command)\n",
    "    #print(command)\n",
    "    \n",
    "    #break\n",
    "    \n",
    "\n",
    "                "
   ]
  },
  {
   "cell_type": "code",
   "execution_count": null,
   "id": "b625b5ad",
   "metadata": {},
   "outputs": [],
   "source": []
  }
 ],
 "metadata": {
  "kernelspec": {
   "display_name": "Python 3",
   "language": "python",
   "name": "python3"
  },
  "language_info": {
   "codemirror_mode": {
    "name": "ipython",
    "version": 3
   },
   "file_extension": ".py",
   "mimetype": "text/x-python",
   "name": "python",
   "nbconvert_exporter": "python",
   "pygments_lexer": "ipython3",
   "version": "3.8.8"
  }
 },
 "nbformat": 4,
 "nbformat_minor": 5
}
