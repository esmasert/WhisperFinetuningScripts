{
 "cells": [
  {
   "cell_type": "code",
   "execution_count": null,
   "id": "c135a6b7",
   "metadata": {},
   "outputs": [],
   "source": [
    "%matplotlib inline\n",
    "import pandas as pd\n",
    "import os.path\n",
    "import os\n",
    "import codecs\n",
    "from subprocess import PIPE, run\n",
    "from tqdm import tqdm\n"
   ]
  },
  {
   "cell_type": "code",
   "execution_count": null,
   "id": "802f2d59",
   "metadata": {},
   "outputs": [],
   "source": [
    "# loading datasets\n",
    "def load_lang_df(lang):\n",
    "    metadata_file = f\"train.json\"\n",
    "    df = pd.read_json(metadata_file, lines=True, orient=\"records\")\n",
    "    df.name=f\"{lang} dataset\"\n",
    "    return df\n",
    "\n",
    "target_dataset = load_lang_df(\"Cantonese Data\")"
   ]
  },
  {
   "cell_type": "code",
   "execution_count": null,
   "id": "e68862b2",
   "metadata": {},
   "outputs": [],
   "source": [
    "# total number of records\n",
    "print(f\"There are {target_dataset.shape[0]} records in the {target_dataset.name}\")\n"
   ]
  },
  {
   "cell_type": "code",
   "execution_count": null,
   "id": "dd6c8a76",
   "metadata": {},
   "outputs": [],
   "source": [
    "def out(command):\n",
    "    result = run(command, stdout=PIPE, stderr=PIPE, universal_newlines=True, shell=True)\n",
    "    return result.stdout\n",
    "\n",
    "count=0\n",
    "countLong=0\n",
    "countShort=0\n",
    "totalDuration=0\n",
    "longerAudio = \"\"\n",
    "\n",
    "long=[]\n",
    "short=[]\n",
    "empty=[]\n",
    "\n",
    "for filePath in tqdm(target_dataset['audio_filepath']):\n",
    "    \n",
    "    cmd = \"soxi -D \" + filePath\n",
    "    duration = float(out(cmd))\n",
    "\n",
    "    totalDuration+=duration\n",
    "\n",
    "    if duration == 0.0:\n",
    "        #print(\"********Doesn't have duration!*******\")\n",
    "        #print(filePath)\n",
    "        #the_file.write(filePath + '  -  ' + str(duration))\n",
    "        #the_file.write(\"\\n\")\n",
    "        count+=1\n",
    "        empty.append(filePath)\n",
    "    if duration > 30:\n",
    "        #print(\"Longer than 30 seconds!\")\n",
    "        #print(filePath)\n",
    "        #print(duration)\n",
    "        longerAudio=filePath\n",
    "        countLong+=1\n",
    "        long.append(filePath)\n",
    "    if duration < 1:\n",
    "        #print(\"Longer than 30 seconds!\")\n",
    "        #print(filePath)\n",
    "        #print(duration)\n",
    "        longerAudio=filePath\n",
    "        countShort+=1\n",
    "        short.append(filePath)\n",
    "        \n",
    "    #print(longerAudio, end=\" \")\n",
    "\n",
    "#the_file.close()\n",
    "\n",
    "print(\"The total duration of the dataset in seconds and in hours: \", round(totalDuration, 2) , \"  ,  \",round(totalDuration/3600,2))\n",
    "print(\"Total number of empty audios: \", count)\n",
    "print(\"Total number of longer than 30 seconds audios: \", countLong)\n",
    "print(\"Total number of short than 1 seconds audios: \", countShort)\n",
    "print(\"THE END\")\n"
   ]
  },
  {
   "cell_type": "code",
   "execution_count": null,
   "id": "065dcd65-bca8-42b8-937c-5b2315f0300f",
   "metadata": {},
   "outputs": [],
   "source": [
    "print(empty)"
   ]
  },
  {
   "cell_type": "code",
   "execution_count": null,
   "id": "8a17fa66-e6bd-4e6e-81e2-eb2f80fb9911",
   "metadata": {},
   "outputs": [],
   "source": [
    "print(long)"
   ]
  },
  {
   "cell_type": "code",
   "execution_count": null,
   "id": "030024bd-1fc5-4697-a719-1046278cae2b",
   "metadata": {},
   "outputs": [],
   "source": [
    "print(short)"
   ]
  },
  {
   "cell_type": "code",
   "execution_count": null,
   "id": "77bad64d-e3fd-4bbc-84d2-e0400c2ac985",
   "metadata": {},
   "outputs": [],
   "source": []
  }
 ],
 "metadata": {
  "kernelspec": {
   "display_name": "Python 3",
   "language": "python",
   "name": "python3"
  },
  "language_info": {
   "codemirror_mode": {
    "name": "ipython",
    "version": 3
   },
   "file_extension": ".py",
   "mimetype": "text/x-python",
   "name": "python",
   "nbconvert_exporter": "python",
   "pygments_lexer": "ipython3",
   "version": "3.8.8"
  }
 },
 "nbformat": 4,
 "nbformat_minor": 5
}
