{
 "cells": [
  {
   "cell_type": "code",
   "execution_count": null,
   "id": "2bea8eb1",
   "metadata": {},
   "outputs": [],
   "source": [
    "import os\n",
    "import glob\n",
    "from tqdm import tqdm\n",
    "import pandas as pd\n",
    "import csv\n",
    "import json\n",
    "import codecs\n",
    "import hanzidentifier\n",
    "import chinese_converter\n"
   ]
  },
  {
   "cell_type": "code",
   "execution_count": null,
   "id": "c95a694c",
   "metadata": {},
   "outputs": [],
   "source": [
    "# loading datasets\n",
    "def load_lang_df(lang):\n",
    "    metadata_file = f\"all_new_verbal_data_exist.json\"\n",
    "    df = pd.read_json(metadata_file, lines=True, orient=\"records\")\n",
    "    df.name=f\"{lang} dataset\"\n",
    "    return df\n",
    "\n",
    "target_dataset = load_lang_df(\"Cantonese Data\")"
   ]
  },
  {
   "cell_type": "code",
   "execution_count": null,
   "id": "e46a235b",
   "metadata": {},
   "outputs": [],
   "source": [
    "len(target_dataset)"
   ]
  },
  {
   "cell_type": "code",
   "execution_count": null,
   "id": "a30e2bb5",
   "metadata": {
    "scrolled": true
   },
   "outputs": [],
   "source": [
    "mainJsonData = []\n",
    "\n",
    "count=0\n",
    "\n",
    "for textt, audioFileName in zip(target_dataset['text'], target_dataset['audio_filepath']):\n",
    "    \n",
    "    flag = 0\n",
    "    \n",
    "    if hanzidentifier.is_simplified(textt) == True:\n",
    "        \n",
    "        newtext= chinese_converter.to_traditional(textt)\n",
    "\n",
    "        jsonData = {}\n",
    "        jsonData[\"audio_filepath\"] = audioFileName\n",
    "        jsonData[\"text\"] = newtext\n",
    "        json_data = json.dumps(jsonData, ensure_ascii=False)\n",
    "        mainJsonData.append(json_data)\n",
    "\n",
    "        #print(json_data)\n",
    "\n",
    "        if count % 100 == 0:\n",
    "            print(count)\n",
    "\n",
    "        count+=1\n",
    "\n",
    "        \n",
    "    else:\n",
    "    \n",
    "        jsonData = {}\n",
    "        jsonData[\"audio_filepath\"] = audioFileName\n",
    "        jsonData[\"text\"] = textt\n",
    "        json_data = json.dumps(jsonData, ensure_ascii=False)\n",
    "        mainJsonData.append(json_data)\n",
    "\n",
    "        \n",
    "print(\"Number of changed lines:\", count)"
   ]
  },
  {
   "cell_type": "code",
   "execution_count": null,
   "id": "4cef79da",
   "metadata": {},
   "outputs": [],
   "source": [
    "len(mainJsonData)"
   ]
  },
  {
   "cell_type": "code",
   "execution_count": null,
   "id": "a956d423",
   "metadata": {
    "scrolled": true
   },
   "outputs": [],
   "source": [
    "newJsonFile = \"all_new_verbal_data_exist_traditional.json\"\n",
    "the_file = codecs.open(newJsonFile, \"a\")#.write(u\"\\u1234\")\n",
    "\n",
    "cnt = 0\n",
    "\n",
    "for i in range(0,len(mainJsonData)):\n",
    "    final = mainJsonData[i]\n",
    "    the_file.write(str(final))\n",
    "    the_file.write(\"\\n\")\n",
    "    cnt+=1\n",
    "\n",
    "the_file.close()\n",
    "\n",
    "print('Number of total lines of the last json file: ', cnt)\n",
    "\n",
    "print(\"THE END\")\n",
    "\n",
    "\n"
   ]
  },
  {
   "cell_type": "code",
   "execution_count": null,
   "id": "16769863",
   "metadata": {},
   "outputs": [],
   "source": []
  }
 ],
 "metadata": {
  "kernelspec": {
   "display_name": "Python 3",
   "language": "python",
   "name": "python3"
  },
  "language_info": {
   "codemirror_mode": {
    "name": "ipython",
    "version": 3
   },
   "file_extension": ".py",
   "mimetype": "text/x-python",
   "name": "python",
   "nbconvert_exporter": "python",
   "pygments_lexer": "ipython3",
   "version": "3.8.8"
  }
 },
 "nbformat": 4,
 "nbformat_minor": 5
}
